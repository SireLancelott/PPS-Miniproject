{
  "nbformat": 4,
  "nbformat_minor": 0,
  "metadata": {
    "colab": {
      "provenance": [],
      "authorship_tag": "ABX9TyNgNisP9X61cevWOP7F0iv1",
      "include_colab_link": true
    },
    "kernelspec": {
      "name": "python3",
      "display_name": "Python 3"
    },
    "language_info": {
      "name": "python"
    }
  },
  "cells": [
    {
      "cell_type": "markdown",
      "metadata": {
        "id": "view-in-github",
        "colab_type": "text"
      },
      "source": [
        "<a href=\"https://colab.research.google.com/github/SireLancelott/PPS-Miniproject/blob/main/Untitled0.ipynb\" target=\"_parent\"><img src=\"https://colab.research.google.com/assets/colab-badge.svg\" alt=\"Open In Colab\"/></a>"
      ]
    },
    {
      "cell_type": "markdown",
      "source": [
        "# This program prints Hello, world!"
      ],
      "metadata": {
        "id": "XqeOFSHOYnmj"
      }
    },
    {
      "cell_type": "code",
      "execution_count": null,
      "metadata": {
        "id": "Vnd0JHgZYjl5"
      },
      "outputs": [],
      "source": [
        "print(\"Hello, World!\")"
      ]
    },
    {
      "cell_type": "markdown",
      "source": [
        "# This program adds two numbers\n"
      ],
      "metadata": {
        "id": "s7KB7_I8Ykq_"
      }
    },
    {
      "cell_type": "code",
      "source": [
        "a=int(input(\"enter a no:\"))\n",
        "b=int(input(\"enter a no:\"))\n",
        "print(\"Sum is:\",a+b)"
      ],
      "metadata": {
        "id": "UTq8KS1iY47w"
      },
      "execution_count": null,
      "outputs": []
    },
    {
      "cell_type": "markdown",
      "source": [
        "# Python Program to calculate the square root"
      ],
      "metadata": {
        "id": "FvgeL-MRZCYD"
      }
    },
    {
      "cell_type": "code",
      "source": [
        "import math\n",
        "a=int(input(\"enter a no:\"))\n",
        "print(\"Root is:\",math.sqrt(a))"
      ],
      "metadata": {
        "id": "5pv3TfzBZE_s"
      },
      "execution_count": null,
      "outputs": []
    },
    {
      "cell_type": "markdown",
      "source": [
        "# Python Program to find the area of triangle"
      ],
      "metadata": {
        "id": "fciJYo8JZNIL"
      }
    },
    {
      "cell_type": "code",
      "source": [
        "base=int(input(\"enter the base:\"))\n",
        "height=int(input(\"enter the height:\"))\n",
        "print(\"Area of the triangle is:\", 0.5*base*height)"
      ],
      "metadata": {
        "id": "PEj9UTV4ZOjs"
      },
      "execution_count": null,
      "outputs": []
    },
    {
      "cell_type": "markdown",
      "source": [
        "# Solve the quadratic equation ax**2 + bx + c = 0"
      ],
      "metadata": {
        "id": "E2M9Rd5VZcMs"
      }
    },
    {
      "cell_type": "code",
      "source": [
        "import math as m\n",
        "a=int(input(\"Enter value for a:\"))\n",
        "b=int(input(\"Enter value for b:\"))\n",
        "c=int(input(\"Enter value for c:\"))\n",
        "D=b**2-4*a*c\n",
        "if D>0:\n",
        "    print(\"The roots are real and distinct\")\n",
        "    x1=(-b+m.sqrt(D))/(2*a)\n",
        "    x2=(-b-m.sqrt(D))/(2*a)\n",
        "    print(\"The roots are \",x1,\"and \",x2)\n",
        "elif D==0:\n",
        "    print(\"The roots are real and equal\")\n",
        "    x=-b/(2*a)\n",
        "    print(\"The roots are \",x,\"and \",x)\n",
        "elif D<0:\n",
        "    print(\"No real roots\")"
      ],
      "metadata": {
        "id": "k2Yf3E2pZd6k"
      },
      "execution_count": null,
      "outputs": []
    },
    {
      "cell_type": "markdown",
      "source": [
        "# Python program to swap two variables"
      ],
      "metadata": {
        "id": "aZB5YtlMZrLm"
      }
    },
    {
      "cell_type": "code",
      "source": [
        "a=input(\"Enter the first variable:\")\n",
        "b=input(\"Enter the second variable:\")\n",
        "a,b=b,a\n",
        "print('''After swapping:\\n\n",
        "        A:''',a,'''\\n\n",
        "        B:''',b)"
      ],
      "metadata": {
        "id": "_kWAkxrbZtez"
      },
      "execution_count": null,
      "outputs": []
    },
    {
      "cell_type": "markdown",
      "source": [
        "# Program to generate a random number between 0 and 9"
      ],
      "metadata": {
        "id": "mIwE2fYwaSn7"
      }
    },
    {
      "cell_type": "code",
      "source": [
        "import random\n",
        "print(random.randint(0,9))"
      ],
      "metadata": {
        "id": "TU9WQ2T1aUgt"
      },
      "execution_count": null,
      "outputs": []
    },
    {
      "cell_type": "markdown",
      "source": [
        "# Taking kilometers input miles from the user"
      ],
      "metadata": {
        "id": "7vHw_-l4aZjS"
      }
    },
    {
      "cell_type": "code",
      "source": [
        "a=float(input(\"Enter value in km:\"))\n",
        "b=a*0.621371\n",
        "print(b)"
      ],
      "metadata": {
        "id": "eU0deV8IabZC"
      },
      "execution_count": null,
      "outputs": []
    },
    {
      "cell_type": "markdown",
      "source": [
        "# Python program to find the largest number among the three input numbers"
      ],
      "metadata": {
        "id": "0PZenFwzaoff"
      }
    },
    {
      "cell_type": "code",
      "source": [
        "num1 = float(input(\"Enter first number: \"))\n",
        "num2 = float(input(\"Enter second number: \"))\n",
        "num3 = float(input(\"Enter third number: \"))\n",
        "if (num1 >= num2) and (num1 >= num3):\n",
        "   largest = num1\n",
        "elif (num2 >= num1) and (num2 >= num3):\n",
        "   largest = num2\n",
        "else:\n",
        "   largest = num3\n",
        "print(\"The largest number is\", largest)"
      ],
      "metadata": {
        "id": "GKz2opgRa3K8"
      },
      "execution_count": null,
      "outputs": []
    },
    {
      "cell_type": "markdown",
      "source": [
        "# Sum of natural numbers up to num"
      ],
      "metadata": {
        "id": "YHXRJb1Ra9_G"
      }
    },
    {
      "cell_type": "code",
      "source": [
        "a=int(input(\"Enter a number:\"))\n",
        "print(\"Natural numbers till\",a,\"are:\")\n",
        "for i in range(a):\n",
        "  print(i,end=\",\")"
      ],
      "metadata": {
        "id": "x95nJ6G3b_fS"
      },
      "execution_count": null,
      "outputs": []
    }
  ]
}